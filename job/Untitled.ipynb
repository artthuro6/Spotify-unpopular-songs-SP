{
 "cells": [
  {
   "cell_type": "code",
   "execution_count": 1,
   "id": "dda6a0d4",
   "metadata": {},
   "outputs": [],
   "source": [
    "from pyspark.sql import SparkSession\n",
    "from pyspark.sql import *"
   ]
  },
  {
   "cell_type": "code",
   "execution_count": 2,
   "id": "d684858e",
   "metadata": {},
   "outputs": [
    {
     "name": "stdout",
     "output_type": "stream",
     "text": [
      "Requirement already satisfied: pyspark in /media/carlos/Development4/workspace/Spotify-unpopular-songs-SP/env/lib/python3.8/site-packages (3.3.0)\r\n",
      "Requirement already satisfied: py4j==0.10.9.5 in /media/carlos/Development4/workspace/Spotify-unpopular-songs-SP/env/lib/python3.8/site-packages (from pyspark) (0.10.9.5)\r\n"
     ]
    }
   ],
   "source": [
    "!pip install pyspark"
   ]
  },
  {
   "cell_type": "code",
   "execution_count": 3,
   "id": "ad1e58b7",
   "metadata": {},
   "outputs": [
    {
     "name": "stderr",
     "output_type": "stream",
     "text": [
      "Setting default log level to \"WARN\".\n",
      "To adjust logging level use sc.setLogLevel(newLevel). For SparkR, use setLogLevel(newLevel).\n"
     ]
    },
    {
     "name": "stdout",
     "output_type": "stream",
     "text": [
      "22/09/16 21:43:37 WARN NativeCodeLoader: Unable to load native-hadoop library for your platform... using builtin-java classes where applicable\n",
      "22/09/16 21:43:38 WARN Utils: Service 'SparkUI' could not bind on port 4040. Attempting port 4041.\n"
     ]
    }
   ],
   "source": [
    "spark = SparkSession.builder.getOrCreate()"
   ]
  },
  {
   "cell_type": "code",
   "execution_count": 5,
   "id": "ee6adf93",
   "metadata": {},
   "outputs": [
    {
     "data": {
      "text/html": [
       "\n",
       "            <div>\n",
       "                <p><b>SparkSession - in-memory</b></p>\n",
       "                \n",
       "        <div>\n",
       "            <p><b>SparkContext</b></p>\n",
       "\n",
       "            <p><a href=\"http://arturo:4041\">Spark UI</a></p>\n",
       "\n",
       "            <dl>\n",
       "              <dt>Version</dt>\n",
       "                <dd><code>v3.3.0</code></dd>\n",
       "              <dt>Master</dt>\n",
       "                <dd><code>local[*]</code></dd>\n",
       "              <dt>AppName</dt>\n",
       "                <dd><code>pyspark-shell</code></dd>\n",
       "            </dl>\n",
       "        </div>\n",
       "        \n",
       "            </div>\n",
       "        "
      ],
      "text/plain": [
       "<pyspark.sql.session.SparkSession at 0x7f1d2dfd7d90>"
      ]
     },
     "execution_count": 5,
     "metadata": {},
     "output_type": "execute_result"
    }
   ],
   "source": [
    "spark"
   ]
  },
  {
   "cell_type": "code",
   "execution_count": 13,
   "id": "744613c5",
   "metadata": {},
   "outputs": [],
   "source": [
    "df_songs = spark.read.csv('./../data/data/spoptify/unpopular_songs.csv', header=True)\n",
    "df_genre = spark.read.csv('./../data/data/spoptify/z_genre_of_artists.csv', header=True)"
   ]
  },
  {
   "cell_type": "code",
   "execution_count": 14,
   "id": "2f4abe1b",
   "metadata": {
    "scrolled": true
   },
   "outputs": [
    {
     "name": "stdout",
     "output_type": "stream",
     "text": [
      "+------------+------+---+--------+----+-----------+------------+----------------+--------+-------+-------+-----------+--------+----------+-----------+------------+--------------------+\n",
      "|danceability|energy|key|loudness|mode|speechiness|acousticness|instrumentalness|liveness|valence|  tempo|duration_ms|explicit|popularity| track_name|track_artist|            track_id|\n",
      "+------------+------+---+--------+----+-----------+------------+----------------+--------+-------+-------+-----------+--------+----------+-----------+------------+--------------------+\n",
      "|        0.53|  0.77|  4|  -6.633|   0|     0.0389|       0.284|           0.501|   0.744|  0.623|120.144|     225696|   False|         2| No Regrets|James Reeder|6f2c4a9lNx8aowZJn...|\n",
      "|       0.565|  0.73|  1|  -6.063|   1|      0.073|       0.365|             0.0|   0.237|  0.511|130.026|     158093|   False|         2|  Wild Life|James Reeder|3fTs52jsDzSuVLsif...|\n",
      "|       0.427| 0.546|  4|  -8.727|   1|     0.0849|       0.539|          0.0152|   0.368|  0.435| 78.345|     167262|   False|         2|      Fangs|James Reeder|6NPafqavrv0icaIHM...|\n",
      "|       0.421| 0.531|  7|  -5.516|   1|     0.0262|       0.706|        0.000208|    0.11|  0.383|  85.08|     236832|   False|         2|Afterburner|James Reeder|3vGmhxveURgmlZStv...|\n",
      "+------------+------+---+--------+----+-----------+------------+----------------+--------+-------+-------+-----------+--------+----------+-----------+------------+--------------------+\n",
      "only showing top 4 rows\n",
      "\n"
     ]
    }
   ],
   "source": [
    "df_songs.show(4)"
   ]
  },
  {
   "cell_type": "code",
   "execution_count": 17,
   "id": "3600c0d2",
   "metadata": {},
   "outputs": [
    {
     "name": "stdout",
     "output_type": "stream",
     "text": [
      "+------------+--------------------+--------------------+\n",
      "| artist_name|           artist_id|               genre|\n",
      "+------------+--------------------+--------------------+\n",
      "|James Reeder|5YCUdcLdAbaYZcdZr...|                  []|\n",
      "|        Cold|0Gw3a3BkWLwsMLFbO...|['alternative met...|\n",
      "|          TG|7qwOsGanRCnWgty6l...|                  []|\n",
      "|     Klaxons|2qlAMLpUyBjZgnzuF...|['alternative dan...|\n",
      "+------------+--------------------+--------------------+\n",
      "only showing top 4 rows\n",
      "\n"
     ]
    }
   ],
   "source": [
    "df_genre.show(4)"
   ]
  },
  {
   "cell_type": "markdown",
   "id": "a445fccd",
   "metadata": {},
   "source": [
    "## Select the columns"
   ]
  },
  {
   "cell_type": "code",
   "execution_count": 16,
   "id": "6e9d15a2",
   "metadata": {},
   "outputs": [
    {
     "data": {
      "text/plain": [
       "['artist_name', 'artist_id', 'genre']"
      ]
     },
     "execution_count": 16,
     "metadata": {},
     "output_type": "execute_result"
    }
   ],
   "source": [
    "df_genre.columns"
   ]
  },
  {
   "cell_type": "code",
   "execution_count": 18,
   "id": "b39981b0",
   "metadata": {},
   "outputs": [
    {
     "data": {
      "text/plain": [
       "['danceability',\n",
       " 'energy',\n",
       " 'key',\n",
       " 'loudness',\n",
       " 'mode',\n",
       " 'speechiness',\n",
       " 'acousticness',\n",
       " 'instrumentalness',\n",
       " 'liveness',\n",
       " 'valence',\n",
       " 'tempo',\n",
       " 'duration_ms',\n",
       " 'explicit',\n",
       " 'popularity',\n",
       " 'track_name',\n",
       " 'track_artist',\n",
       " 'track_id']"
      ]
     },
     "execution_count": 18,
     "metadata": {},
     "output_type": "execute_result"
    }
   ],
   "source": [
    "df_songs.columns"
   ]
  },
  {
   "cell_type": "code",
   "execution_count": 28,
   "id": "9743b873",
   "metadata": {},
   "outputs": [],
   "source": [
    "# Select name of the columns in the DataFrame 'df_songs'\n",
    "cols_songs = ['danceability','energy','key','loudness','mode','speechiness','acousticness','instrumentalness',\n",
    "              'valence','tempo','duration_ms','explicit','popularity','track_name','track_artist','track_id']\n",
    "#'liveness'"
   ]
  },
  {
   "cell_type": "code",
   "execution_count": 29,
   "id": "bdfdb08c",
   "metadata": {},
   "outputs": [],
   "source": [
    "# Select name of the columns in the DataFrame 'df_genre'\n",
    "cols_genre  = ['artist_name', 'artist_id', 'genre']"
   ]
  },
  {
   "cell_type": "code",
   "execution_count": 30,
   "id": "29acbd74",
   "metadata": {},
   "outputs": [],
   "source": [
    "# Asign the new columns in new DataFrame\n",
    "df_songs_cols_select = df_songs.select(cols_songs)"
   ]
  },
  {
   "cell_type": "code",
   "execution_count": 32,
   "id": "750e8d15",
   "metadata": {},
   "outputs": [],
   "source": [
    "df_genre_cols_select = df_genre.select(cols_genre)"
   ]
  },
  {
   "cell_type": "code",
   "execution_count": 33,
   "id": "18dba7db",
   "metadata": {},
   "outputs": [
    {
     "data": {
      "text/plain": [
       "['artist_name', 'artist_id', 'genre']"
      ]
     },
     "execution_count": 33,
     "metadata": {},
     "output_type": "execute_result"
    }
   ],
   "source": [
    "df_genre_cols_select.columns"
   ]
  },
  {
   "cell_type": "code",
   "execution_count": 35,
   "id": "aba1ac99",
   "metadata": {},
   "outputs": [
    {
     "data": {
      "text/plain": [
       "['danceability',\n",
       " 'energy',\n",
       " 'key',\n",
       " 'loudness',\n",
       " 'mode',\n",
       " 'speechiness',\n",
       " 'acousticness',\n",
       " 'instrumentalness',\n",
       " 'valence',\n",
       " 'tempo',\n",
       " 'duration_ms',\n",
       " 'explicit',\n",
       " 'popularity',\n",
       " 'track_name',\n",
       " 'track_artist',\n",
       " 'track_id']"
      ]
     },
     "execution_count": 35,
     "metadata": {},
     "output_type": "execute_result"
    }
   ],
   "source": [
    "df_songs_cols_select.columns"
   ]
  },
  {
   "cell_type": "code",
   "execution_count": 38,
   "id": "ace20c0a",
   "metadata": {},
   "outputs": [
    {
     "name": "stdout",
     "output_type": "stream",
     "text": [
      "1736\n",
      "10877\n"
     ]
    }
   ],
   "source": [
    "print( df_genre_cols_select.count() )\n",
    "print( df_songs_cols_select.count() )"
   ]
  },
  {
   "cell_type": "code",
   "execution_count": 39,
   "id": "ed762209",
   "metadata": {},
   "outputs": [
    {
     "data": {
      "text/plain": [
       "<bound method SparkSession.stop of <pyspark.sql.session.SparkSession object at 0x7f1d2dfd7d90>>"
      ]
     },
     "execution_count": 39,
     "metadata": {},
     "output_type": "execute_result"
    }
   ],
   "source": [
    "spark.stop"
   ]
  },
  {
   "cell_type": "code",
   "execution_count": 40,
   "id": "69b0ff94",
   "metadata": {},
   "outputs": [
    {
     "data": {
      "text/plain": [
       "1736"
      ]
     },
     "execution_count": 40,
     "metadata": {},
     "output_type": "execute_result"
    }
   ],
   "source": []
  },
  {
   "cell_type": "code",
   "execution_count": null,
   "id": "898c9974",
   "metadata": {},
   "outputs": [],
   "source": []
  }
 ],
 "metadata": {
  "kernelspec": {
   "display_name": "Python 3 (ipykernel)",
   "language": "python",
   "name": "python3"
  },
  "language_info": {
   "codemirror_mode": {
    "name": "ipython",
    "version": 3
   },
   "file_extension": ".py",
   "mimetype": "text/x-python",
   "name": "python",
   "nbconvert_exporter": "python",
   "pygments_lexer": "ipython3",
   "version": "3.8.10"
  }
 },
 "nbformat": 4,
 "nbformat_minor": 5
}
